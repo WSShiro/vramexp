{
  "cells": [
    {
      "cell_type": "code",
      "execution_count": 4,
      "metadata": {
        "colab": {
          "base_uri": "https://localhost:8080/"
        },
        "id": "McFWpAMsozfD",
        "outputId": "311b2570-e2cd-431a-c7de-6feb5e87f76d"
      },
      "outputs": [],
      "source": [
        "!pip install -q \"monai-weekly[nibabel, tqdm, einops]\"\n",
        "# !pip install torchinfo"
      ]
    },
    {
      "cell_type": "code",
      "execution_count": 1,
      "metadata": {
        "colab": {
          "base_uri": "https://localhost:8080/"
        },
        "id": "tCdQFBxkpU47",
        "outputId": "68a82284-2b18-4f97-fa00-afc3389b17c6"
      },
      "outputs": [
        {
          "name": "stderr",
          "output_type": "stream",
          "text": [
            "2023-08-09 21:00:22.929297: I tensorflow/core/util/port.cc:110] oneDNN custom operations are on. You may see slightly different numerical results due to floating-point round-off errors from different computation orders. To turn them off, set the environment variable `TF_ENABLE_ONEDNN_OPTS=0`.\n",
            "2023-08-09 21:00:22.952047: I tensorflow/core/platform/cpu_feature_guard.cc:182] This TensorFlow binary is optimized to use available CPU instructions in performance-critical operations.\n",
            "To enable the following instructions: AVX2 AVX_VNNI FMA, in other operations, rebuild TensorFlow with the appropriate compiler flags.\n",
            "2023-08-09 21:00:23.390026: W tensorflow/compiler/tf2tensorrt/utils/py_utils.cc:38] TF-TRT Warning: Could not find TensorRT\n"
          ]
        },
        {
          "name": "stdout",
          "output_type": "stream",
          "text": [
            "MONAI version: 1.3.dev2332\n",
            "Numpy version: 1.24.3\n",
            "Pytorch version: 2.0.1+cu117\n",
            "MONAI flags: HAS_EXT = False, USE_COMPILED = False, USE_META_DICT = False\n",
            "MONAI rev id: a260ff4abbb7161c325666baf9ddc8bd4c079031\n",
            "MONAI __file__: /media/wsshiro/CCA032A5A03295C4/VRAMexp/vramexp/.venv/lib/python3.10/site-packages/monai/__init__.py\n",
            "\n",
            "Optional dependencies:\n",
            "Pytorch Ignite version: NOT INSTALLED or UNKNOWN VERSION.\n",
            "ITK version: NOT INSTALLED or UNKNOWN VERSION.\n",
            "Nibabel version: 5.1.0\n",
            "scikit-image version: NOT INSTALLED or UNKNOWN VERSION.\n",
            "scipy version: NOT INSTALLED or UNKNOWN VERSION.\n",
            "Pillow version: 10.0.0\n",
            "Tensorboard version: 2.13.0\n",
            "gdown version: NOT INSTALLED or UNKNOWN VERSION.\n",
            "TorchVision version: 0.15.2+cu117\n",
            "tqdm version: 4.65.0\n",
            "lmdb version: NOT INSTALLED or UNKNOWN VERSION.\n",
            "psutil version: 5.9.5\n",
            "pandas version: 2.0.3\n",
            "einops version: 0.6.1\n",
            "transformers version: NOT INSTALLED or UNKNOWN VERSION.\n",
            "mlflow version: NOT INSTALLED or UNKNOWN VERSION.\n",
            "pynrrd version: NOT INSTALLED or UNKNOWN VERSION.\n",
            "\n",
            "For details about installing the optional dependencies, please visit:\n",
            "    https://docs.monai.io/en/latest/installation.html#installing-the-recommended-dependencies\n",
            "\n"
          ]
        }
      ],
      "source": [
        "import os\n",
        "\n",
        "import torch\n",
        "from torchinfo import summary\n",
        "\n",
        "from monai.networks.nets import UNETR\n",
        "from monai.config import print_config\n",
        "\n",
        "print_config()"
      ]
    },
    {
      "cell_type": "code",
      "execution_count": 2,
      "metadata": {
        "colab": {
          "base_uri": "https://localhost:8080/"
        },
        "id": "Ygj1ghCbpzVi",
        "outputId": "1fe1a526-88bc-460c-e2c7-4e06c9902849"
      },
      "outputs": [
        {
          "data": {
            "text/plain": [
              "=================================================================================================================================================================================================================================\n",
              "Layer (type:depth-idx)                             Input Shape               Output Shape              Param #                   Param %                   Kernel Shape              Mult-Adds                 Trainable\n",
              "=================================================================================================================================================================================================================================\n",
              "UNETR                                              [1, 1, 96, 96, 96]        [1, 14, 96, 96, 96]       --                             --                   --                        --                        True\n",
              "├─ViT: 1-1                                         [1, 1, 96, 96, 96]        [1, 216, 768]             --                             --                   --                        --                        True\n",
              "│    └─PatchEmbeddingBlock: 2-1                    [1, 1, 96, 96, 96]        [1, 216, 768]             165,888                     0.18%                   --                        --                        True\n",
              "│    │    └─Sequential: 3-1                        [1, 1, 96, 96, 96]        [1, 216, 768]             3,146,496                   3.39%                   --                        3,146,496                 True\n",
              "│    │    └─Dropout: 3-2                           [1, 216, 768]             [1, 216, 768]             --                             --                   --                        --                        --\n",
              "│    └─ModuleList: 2-2                             --                        --                        --                             --                   --                        --                        True\n",
              "│    │    └─TransformerBlock: 3-3                  [1, 216, 768]             [1, 216, 768]             7,085,568                   7.64%                   --                        7,085,568                 True\n",
              "│    │    └─TransformerBlock: 3-4                  [1, 216, 768]             [1, 216, 768]             7,085,568                   7.64%                   --                        7,085,568                 True\n",
              "│    │    └─TransformerBlock: 3-5                  [1, 216, 768]             [1, 216, 768]             7,085,568                   7.64%                   --                        7,085,568                 True\n",
              "│    │    └─TransformerBlock: 3-6                  [1, 216, 768]             [1, 216, 768]             7,085,568                   7.64%                   --                        7,085,568                 True\n",
              "│    │    └─TransformerBlock: 3-7                  [1, 216, 768]             [1, 216, 768]             7,085,568                   7.64%                   --                        7,085,568                 True\n",
              "│    │    └─TransformerBlock: 3-8                  [1, 216, 768]             [1, 216, 768]             7,085,568                   7.64%                   --                        7,085,568                 True\n",
              "│    │    └─TransformerBlock: 3-9                  [1, 216, 768]             [1, 216, 768]             7,085,568                   7.64%                   --                        7,085,568                 True\n",
              "│    │    └─TransformerBlock: 3-10                 [1, 216, 768]             [1, 216, 768]             7,085,568                   7.64%                   --                        7,085,568                 True\n",
              "│    │    └─TransformerBlock: 3-11                 [1, 216, 768]             [1, 216, 768]             7,085,568                   7.64%                   --                        7,085,568                 True\n",
              "│    │    └─TransformerBlock: 3-12                 [1, 216, 768]             [1, 216, 768]             7,085,568                   7.64%                   --                        7,085,568                 True\n",
              "│    │    └─TransformerBlock: 3-13                 [1, 216, 768]             [1, 216, 768]             7,085,568                   7.64%                   --                        7,085,568                 True\n",
              "│    │    └─TransformerBlock: 3-14                 [1, 216, 768]             [1, 216, 768]             7,085,568                   7.64%                   --                        7,085,568                 True\n",
              "│    └─LayerNorm: 2-3                              [1, 216, 768]             [1, 216, 768]             1,536                       0.00%                   --                        1,536                     True\n",
              "├─UnetrBasicBlock: 1-2                             [1, 1, 96, 96, 96]        [1, 16, 96, 96, 96]       --                             --                   --                        --                        True\n",
              "│    └─UnetResBlock: 2-4                           [1, 1, 96, 96, 96]        [1, 16, 96, 96, 96]       --                             --                   --                        --                        True\n",
              "│    │    └─Convolution: 3-15                      [1, 1, 96, 96, 96]        [1, 16, 96, 96, 96]       432                         0.00%                   --                        382,205,952               True\n",
              "│    │    └─InstanceNorm3d: 3-16                   [1, 16, 96, 96, 96]       [1, 16, 96, 96, 96]       --                             --                   --                        --                        --\n",
              "│    │    └─LeakyReLU: 3-17                        [1, 16, 96, 96, 96]       [1, 16, 96, 96, 96]       --                             --                   --                        --                        --\n",
              "│    │    └─Convolution: 3-18                      [1, 16, 96, 96, 96]       [1, 16, 96, 96, 96]       6,912                       0.01%                   --                        6,115,295,232             True\n",
              "│    │    └─InstanceNorm3d: 3-19                   [1, 16, 96, 96, 96]       [1, 16, 96, 96, 96]       --                             --                   --                        --                        --\n",
              "│    │    └─Convolution: 3-20                      [1, 1, 96, 96, 96]        [1, 16, 96, 96, 96]       16                          0.00%                   --                        14,155,776                True\n",
              "│    │    └─InstanceNorm3d: 3-21                   [1, 16, 96, 96, 96]       [1, 16, 96, 96, 96]       --                             --                   --                        --                        --\n",
              "│    │    └─LeakyReLU: 3-22                        [1, 16, 96, 96, 96]       [1, 16, 96, 96, 96]       --                        (recursive)               --                        --                        --\n",
              "├─UnetrPrUpBlock: 1-3                              [1, 768, 6, 6, 6]         [1, 32, 48, 48, 48]       --                             --                   --                        --                        True\n",
              "│    └─Convolution: 2-5                            [1, 768, 6, 6, 6]         [1, 32, 12, 12, 12]       --                             --                   --                        --                        True\n",
              "│    │    └─ConvTranspose3d: 3-23                  [1, 768, 6, 6, 6]         [1, 32, 12, 12, 12]       196,608                     0.21%                   [2, 2, 2]                 339,738,624               True\n",
              "│    └─ModuleList: 2-6                             --                        --                        --                             --                   --                        --                        True\n",
              "│    │    └─Sequential: 3-24                       [1, 32, 12, 12, 12]       [1, 32, 24, 24, 24]       63,488                      0.07%                   --                        877,658,112               True\n",
              "│    │    └─Sequential: 3-25                       [1, 32, 24, 24, 24]       [1, 32, 48, 48, 48]       63,488                      0.07%                   --                        7,021,264,896             True\n",
              "├─UnetrPrUpBlock: 1-4                              [1, 768, 6, 6, 6]         [1, 64, 24, 24, 24]       --                             --                   --                        --                        True\n",
              "│    └─Convolution: 2-7                            [1, 768, 6, 6, 6]         [1, 64, 12, 12, 12]       --                             --                   --                        --                        True\n",
              "│    │    └─ConvTranspose3d: 3-26                  [1, 768, 6, 6, 6]         [1, 64, 12, 12, 12]       393,216                     0.42%                   [2, 2, 2]                 679,477,248               True\n",
              "│    └─ModuleList: 2-8                             --                        --                        --                             --                   --                        --                        True\n",
              "│    │    └─Sequential: 3-27                       [1, 64, 12, 12, 12]       [1, 64, 24, 24, 24]       253,952                     0.27%                   --                        3,510,632,448             True\n",
              "├─UnetrPrUpBlock: 1-5                              [1, 768, 6, 6, 6]         [1, 128, 12, 12, 12]      --                             --                   --                        --                        True\n",
              "│    └─Convolution: 2-9                            [1, 768, 6, 6, 6]         [1, 128, 12, 12, 12]      --                             --                   --                        --                        True\n",
              "│    │    └─ConvTranspose3d: 3-28                  [1, 768, 6, 6, 6]         [1, 128, 12, 12, 12]      786,432                     0.85%                   [2, 2, 2]                 1,358,954,496             True\n",
              "├─UnetrUpBlock: 1-6                                [1, 768, 6, 6, 6]         [1, 128, 12, 12, 12]      --                             --                   --                        --                        True\n",
              "│    └─Convolution: 2-10                           [1, 768, 6, 6, 6]         [1, 128, 12, 12, 12]      --                             --                   --                        --                        True\n",
              "│    │    └─ConvTranspose3d: 3-29                  [1, 768, 6, 6, 6]         [1, 128, 12, 12, 12]      786,432                     0.85%                   [2, 2, 2]                 1,358,954,496             True\n",
              "│    └─UnetResBlock: 2-11                          [1, 256, 12, 12, 12]      [1, 128, 12, 12, 12]      --                             --                   --                        --                        True\n",
              "│    │    └─Convolution: 3-30                      [1, 256, 12, 12, 12]      [1, 128, 12, 12, 12]      884,736                     0.95%                   --                        1,528,823,808             True\n",
              "│    │    └─InstanceNorm3d: 3-31                   [1, 128, 12, 12, 12]      [1, 128, 12, 12, 12]      --                             --                   --                        --                        --\n",
              "│    │    └─LeakyReLU: 3-32                        [1, 128, 12, 12, 12]      [1, 128, 12, 12, 12]      --                             --                   --                        --                        --\n",
              "│    │    └─Convolution: 3-33                      [1, 128, 12, 12, 12]      [1, 128, 12, 12, 12]      442,368                     0.48%                   --                        764,411,904               True\n",
              "│    │    └─InstanceNorm3d: 3-34                   [1, 128, 12, 12, 12]      [1, 128, 12, 12, 12]      --                             --                   --                        --                        --\n",
              "│    │    └─Convolution: 3-35                      [1, 256, 12, 12, 12]      [1, 128, 12, 12, 12]      32,768                      0.04%                   --                        56,623,104                True\n",
              "│    │    └─InstanceNorm3d: 3-36                   [1, 128, 12, 12, 12]      [1, 128, 12, 12, 12]      --                             --                   --                        --                        --\n",
              "│    │    └─LeakyReLU: 3-37                        [1, 128, 12, 12, 12]      [1, 128, 12, 12, 12]      --                        (recursive)               --                        --                        --\n",
              "├─UnetrUpBlock: 1-7                                [1, 128, 12, 12, 12]      [1, 64, 24, 24, 24]       --                             --                   --                        --                        True\n",
              "│    └─Convolution: 2-12                           [1, 128, 12, 12, 12]      [1, 64, 24, 24, 24]       --                             --                   --                        --                        True\n",
              "│    │    └─ConvTranspose3d: 3-38                  [1, 128, 12, 12, 12]      [1, 64, 24, 24, 24]       65,536                      0.07%                   [2, 2, 2]                 905,969,664               True\n",
              "│    └─UnetResBlock: 2-13                          [1, 128, 24, 24, 24]      [1, 64, 24, 24, 24]       --                             --                   --                        --                        True\n",
              "│    │    └─Convolution: 3-39                      [1, 128, 24, 24, 24]      [1, 64, 24, 24, 24]       221,184                     0.24%                   --                        3,057,647,616             True\n",
              "│    │    └─InstanceNorm3d: 3-40                   [1, 64, 24, 24, 24]       [1, 64, 24, 24, 24]       --                             --                   --                        --                        --\n",
              "│    │    └─LeakyReLU: 3-41                        [1, 64, 24, 24, 24]       [1, 64, 24, 24, 24]       --                             --                   --                        --                        --\n",
              "│    │    └─Convolution: 3-42                      [1, 64, 24, 24, 24]       [1, 64, 24, 24, 24]       110,592                     0.12%                   --                        1,528,823,808             True\n",
              "│    │    └─InstanceNorm3d: 3-43                   [1, 64, 24, 24, 24]       [1, 64, 24, 24, 24]       --                             --                   --                        --                        --\n",
              "│    │    └─Convolution: 3-44                      [1, 128, 24, 24, 24]      [1, 64, 24, 24, 24]       8,192                       0.01%                   --                        113,246,208               True\n",
              "│    │    └─InstanceNorm3d: 3-45                   [1, 64, 24, 24, 24]       [1, 64, 24, 24, 24]       --                             --                   --                        --                        --\n",
              "│    │    └─LeakyReLU: 3-46                        [1, 64, 24, 24, 24]       [1, 64, 24, 24, 24]       --                        (recursive)               --                        --                        --\n",
              "├─UnetrUpBlock: 1-8                                [1, 64, 24, 24, 24]       [1, 32, 48, 48, 48]       --                             --                   --                        --                        True\n",
              "│    └─Convolution: 2-14                           [1, 64, 24, 24, 24]       [1, 32, 48, 48, 48]       --                             --                   --                        --                        True\n",
              "│    │    └─ConvTranspose3d: 3-47                  [1, 64, 24, 24, 24]       [1, 32, 48, 48, 48]       16,384                      0.02%                   [2, 2, 2]                 1,811,939,328             True\n",
              "│    └─UnetResBlock: 2-15                          [1, 64, 48, 48, 48]       [1, 32, 48, 48, 48]       --                             --                   --                        --                        True\n",
              "│    │    └─Convolution: 3-48                      [1, 64, 48, 48, 48]       [1, 32, 48, 48, 48]       55,296                      0.06%                   --                        6,115,295,232             True\n",
              "│    │    └─InstanceNorm3d: 3-49                   [1, 32, 48, 48, 48]       [1, 32, 48, 48, 48]       --                             --                   --                        --                        --\n",
              "│    │    └─LeakyReLU: 3-50                        [1, 32, 48, 48, 48]       [1, 32, 48, 48, 48]       --                             --                   --                        --                        --\n",
              "│    │    └─Convolution: 3-51                      [1, 32, 48, 48, 48]       [1, 32, 48, 48, 48]       27,648                      0.03%                   --                        3,057,647,616             True\n",
              "│    │    └─InstanceNorm3d: 3-52                   [1, 32, 48, 48, 48]       [1, 32, 48, 48, 48]       --                             --                   --                        --                        --\n",
              "│    │    └─Convolution: 3-53                      [1, 64, 48, 48, 48]       [1, 32, 48, 48, 48]       2,048                       0.00%                   --                        226,492,416               True\n",
              "│    │    └─InstanceNorm3d: 3-54                   [1, 32, 48, 48, 48]       [1, 32, 48, 48, 48]       --                             --                   --                        --                        --\n",
              "│    │    └─LeakyReLU: 3-55                        [1, 32, 48, 48, 48]       [1, 32, 48, 48, 48]       --                        (recursive)               --                        --                        --\n",
              "├─UnetrUpBlock: 1-9                                [1, 32, 48, 48, 48]       [1, 16, 96, 96, 96]       --                             --                   --                        --                        True\n",
              "│    └─Convolution: 2-16                           [1, 32, 48, 48, 48]       [1, 16, 96, 96, 96]       --                             --                   --                        --                        True\n",
              "│    │    └─ConvTranspose3d: 3-56                  [1, 32, 48, 48, 48]       [1, 16, 96, 96, 96]       4,096                       0.00%                   [2, 2, 2]                 3,623,878,656             True\n",
              "│    └─UnetResBlock: 2-17                          [1, 32, 96, 96, 96]       [1, 16, 96, 96, 96]       --                             --                   --                        --                        True\n",
              "│    │    └─Convolution: 3-57                      [1, 32, 96, 96, 96]       [1, 16, 96, 96, 96]       13,824                      0.01%                   --                        12,230,590,464            True\n",
              "│    │    └─InstanceNorm3d: 3-58                   [1, 16, 96, 96, 96]       [1, 16, 96, 96, 96]       --                             --                   --                        --                        --\n",
              "│    │    └─LeakyReLU: 3-59                        [1, 16, 96, 96, 96]       [1, 16, 96, 96, 96]       --                             --                   --                        --                        --\n",
              "│    │    └─Convolution: 3-60                      [1, 16, 96, 96, 96]       [1, 16, 96, 96, 96]       6,912                       0.01%                   --                        6,115,295,232             True\n",
              "│    │    └─InstanceNorm3d: 3-61                   [1, 16, 96, 96, 96]       [1, 16, 96, 96, 96]       --                             --                   --                        --                        --\n",
              "│    │    └─Convolution: 3-62                      [1, 32, 96, 96, 96]       [1, 16, 96, 96, 96]       512                         0.00%                   --                        452,984,832               True\n",
              "│    │    └─InstanceNorm3d: 3-63                   [1, 16, 96, 96, 96]       [1, 16, 96, 96, 96]       --                             --                   --                        --                        --\n",
              "│    │    └─LeakyReLU: 3-64                        [1, 16, 96, 96, 96]       [1, 16, 96, 96, 96]       --                        (recursive)               --                        --                        --\n",
              "├─UnetOutBlock: 1-10                               [1, 16, 96, 96, 96]       [1, 14, 96, 96, 96]       --                             --                   --                        --                        True\n",
              "│    └─Convolution: 2-18                           [1, 16, 96, 96, 96]       [1, 14, 96, 96, 96]       --                             --                   --                        --                        True\n",
              "│    │    └─Conv3d: 3-65                           [1, 16, 96, 96, 96]       [1, 14, 96, 96, 96]       238                         0.00%                   [1, 1, 1]                 210,567,168               True\n",
              "=================================================================================================================================================================================================================================\n",
              "Total params: 92,784,046\n",
              "Trainable params: 92,784,046\n",
              "Non-trainable params: 0\n",
              "Total mult-adds (G): 63.55\n",
              "=================================================================================================================================================================================================================================\n",
              "Input size (MB): 3.54\n",
              "Forward/backward pass size (MB): 1338.16\n",
              "Params size (MB): 370.47\n",
              "Estimated Total Size (MB): 1712.17\n",
              "================================================================================================================================================================================================================================="
            ]
          },
          "execution_count": 2,
          "metadata": {},
          "output_type": "execute_result"
        }
      ],
      "source": [
        "os.environ[\"CUDA_DEVICE_ORDER\"] = \"PCI_BUS_ID\"\n",
        "device = torch.device(\"cuda\" if torch.cuda.is_available() else \"cpu\")\n",
        "\n",
        "model = UNETR(\n",
        "    in_channels=1,\n",
        "    out_channels=14,\n",
        "    img_size=(96, 96, 96),\n",
        "    feature_size=16,\n",
        "    hidden_size=768,\n",
        "    mlp_dim=3072,\n",
        "    num_heads=12,\n",
        "    pos_embed=\"perceptron\",\n",
        "    norm_name=\"instance\",\n",
        "    res_block=True,\n",
        "    dropout_rate=0.0,\n",
        ").to(device)\n",
        "\n",
        "summary(model, (1,1,96,96,96),\n",
        "        col_names=[\"input_size\",\n",
        "                \"output_size\",\n",
        "                \"num_params\",\n",
        "                \"params_percent\",\n",
        "                \"kernel_size\",\n",
        "                \"mult_adds\",\n",
        "                \"trainable\"])"
      ]
    },
    {
      "cell_type": "markdown",
      "metadata": {
        "id": "91NSOMx5VfAT"
      },
      "source": []
    },
    {
      "cell_type": "code",
      "execution_count": 3,
      "metadata": {
        "colab": {
          "base_uri": "https://localhost:8080/"
        },
        "id": "R4cFMWJu5Ima",
        "outputId": "ba99681b-4505-4fb7-bb8b-b2ed33a87fcc"
      },
      "outputs": [
        {
          "name": "stdout",
          "output_type": "stream",
          "text": [
            "パッチの要素数 216.0\n",
            "推定容量 2088.227186279297 MiB\n"
          ]
        }
      ],
      "source": [
        "print(\"パッチの要素数\", (96/16)**3)\n",
        "\n",
        "m = 92784046*4\n",
        "x = 96*96*96*4\n",
        "y = 1338.16/2*1024**2 # Forwad/backward pass size = total output * 2\n",
        "batch = 1\n",
        "b=1\n",
        "g=m\n",
        "d=1\n",
        "o=2\n",
        "print(\"推定容量\", (m + (x+y)*batch*b + g*d + m*o)/1024**2, \"MiB\")"
      ]
    },
    {
      "cell_type": "code",
      "execution_count": 4,
      "metadata": {
        "colab": {
          "base_uri": "https://localhost:8080/"
        },
        "id": "py4vLLGy9EZH",
        "outputId": "4bd8a884-ad71-4f47-8f98-75400ca9174f"
      },
      "outputs": [
        {
          "data": {
            "text/plain": [
              "=================================================================================================================================================================================================================================\n",
              "Layer (type:depth-idx)                             Input Shape               Output Shape              Param #                   Param %                   Kernel Shape              Mult-Adds                 Trainable\n",
              "=================================================================================================================================================================================================================================\n",
              "UNETR                                              [1, 1, 64, 64, 64]        [1, 2, 64, 64, 64]        --                             --                   --                        --                        True\n",
              "├─ViT: 1-1                                         [1, 1, 64, 64, 64]        [1, 64, 768]              --                             --                   --                        --                        True\n",
              "│    └─PatchEmbeddingBlock: 2-1                    [1, 1, 64, 64, 64]        [1, 64, 768]              49,152                      0.05%                   --                        --                        True\n",
              "│    │    └─Sequential: 3-1                        [1, 1, 64, 64, 64]        [1, 64, 768]              3,146,496                   3.40%                   --                        3,146,496                 True\n",
              "│    │    └─Dropout: 3-2                           [1, 64, 768]              [1, 64, 768]              --                             --                   --                        --                        --\n",
              "│    └─ModuleList: 2-2                             --                        --                        --                             --                   --                        --                        True\n",
              "│    │    └─TransformerBlock: 3-3                  [1, 64, 768]              [1, 64, 768]              7,085,568                   7.65%                   --                        7,085,568                 True\n",
              "│    │    └─TransformerBlock: 3-4                  [1, 64, 768]              [1, 64, 768]              7,085,568                   7.65%                   --                        7,085,568                 True\n",
              "│    │    └─TransformerBlock: 3-5                  [1, 64, 768]              [1, 64, 768]              7,085,568                   7.65%                   --                        7,085,568                 True\n",
              "│    │    └─TransformerBlock: 3-6                  [1, 64, 768]              [1, 64, 768]              7,085,568                   7.65%                   --                        7,085,568                 True\n",
              "│    │    └─TransformerBlock: 3-7                  [1, 64, 768]              [1, 64, 768]              7,085,568                   7.65%                   --                        7,085,568                 True\n",
              "│    │    └─TransformerBlock: 3-8                  [1, 64, 768]              [1, 64, 768]              7,085,568                   7.65%                   --                        7,085,568                 True\n",
              "│    │    └─TransformerBlock: 3-9                  [1, 64, 768]              [1, 64, 768]              7,085,568                   7.65%                   --                        7,085,568                 True\n",
              "│    │    └─TransformerBlock: 3-10                 [1, 64, 768]              [1, 64, 768]              7,085,568                   7.65%                   --                        7,085,568                 True\n",
              "│    │    └─TransformerBlock: 3-11                 [1, 64, 768]              [1, 64, 768]              7,085,568                   7.65%                   --                        7,085,568                 True\n",
              "│    │    └─TransformerBlock: 3-12                 [1, 64, 768]              [1, 64, 768]              7,085,568                   7.65%                   --                        7,085,568                 True\n",
              "│    │    └─TransformerBlock: 3-13                 [1, 64, 768]              [1, 64, 768]              7,085,568                   7.65%                   --                        7,085,568                 True\n",
              "│    │    └─TransformerBlock: 3-14                 [1, 64, 768]              [1, 64, 768]              7,085,568                   7.65%                   --                        7,085,568                 True\n",
              "│    └─LayerNorm: 2-3                              [1, 64, 768]              [1, 64, 768]              1,536                       0.00%                   --                        1,536                     True\n",
              "├─UnetrBasicBlock: 1-2                             [1, 1, 64, 64, 64]        [1, 16, 64, 64, 64]       --                             --                   --                        --                        True\n",
              "│    └─UnetResBlock: 2-4                           [1, 1, 64, 64, 64]        [1, 16, 64, 64, 64]       --                             --                   --                        --                        True\n",
              "│    │    └─Convolution: 3-15                      [1, 1, 64, 64, 64]        [1, 16, 64, 64, 64]       432                         0.00%                   --                        113,246,208               True\n",
              "│    │    └─InstanceNorm3d: 3-16                   [1, 16, 64, 64, 64]       [1, 16, 64, 64, 64]       --                             --                   --                        --                        --\n",
              "│    │    └─LeakyReLU: 3-17                        [1, 16, 64, 64, 64]       [1, 16, 64, 64, 64]       --                             --                   --                        --                        --\n",
              "│    │    └─Convolution: 3-18                      [1, 16, 64, 64, 64]       [1, 16, 64, 64, 64]       6,912                       0.01%                   --                        1,811,939,328             True\n",
              "│    │    └─InstanceNorm3d: 3-19                   [1, 16, 64, 64, 64]       [1, 16, 64, 64, 64]       --                             --                   --                        --                        --\n",
              "│    │    └─Convolution: 3-20                      [1, 1, 64, 64, 64]        [1, 16, 64, 64, 64]       16                          0.00%                   --                        4,194,304                 True\n",
              "│    │    └─InstanceNorm3d: 3-21                   [1, 16, 64, 64, 64]       [1, 16, 64, 64, 64]       --                             --                   --                        --                        --\n",
              "│    │    └─LeakyReLU: 3-22                        [1, 16, 64, 64, 64]       [1, 16, 64, 64, 64]       --                        (recursive)               --                        --                        --\n",
              "├─UnetrPrUpBlock: 1-3                              [1, 768, 4, 4, 4]         [1, 32, 32, 32, 32]       --                             --                   --                        --                        True\n",
              "│    └─Convolution: 2-5                            [1, 768, 4, 4, 4]         [1, 32, 8, 8, 8]          --                             --                   --                        --                        True\n",
              "│    │    └─ConvTranspose3d: 3-23                  [1, 768, 4, 4, 4]         [1, 32, 8, 8, 8]          196,608                     0.21%                   [2, 2, 2]                 100,663,296               True\n",
              "│    └─ModuleList: 2-6                             --                        --                        --                             --                   --                        --                        True\n",
              "│    │    └─Sequential: 3-24                       [1, 32, 8, 8, 8]          [1, 32, 16, 16, 16]       63,488                      0.07%                   --                        260,046,848               True\n",
              "│    │    └─Sequential: 3-25                       [1, 32, 16, 16, 16]       [1, 32, 32, 32, 32]       63,488                      0.07%                   --                        2,080,374,784             True\n",
              "├─UnetrPrUpBlock: 1-4                              [1, 768, 4, 4, 4]         [1, 64, 16, 16, 16]       --                             --                   --                        --                        True\n",
              "│    └─Convolution: 2-7                            [1, 768, 4, 4, 4]         [1, 64, 8, 8, 8]          --                             --                   --                        --                        True\n",
              "│    │    └─ConvTranspose3d: 3-26                  [1, 768, 4, 4, 4]         [1, 64, 8, 8, 8]          393,216                     0.42%                   [2, 2, 2]                 201,326,592               True\n",
              "│    └─ModuleList: 2-8                             --                        --                        --                             --                   --                        --                        True\n",
              "│    │    └─Sequential: 3-27                       [1, 64, 8, 8, 8]          [1, 64, 16, 16, 16]       253,952                     0.27%                   --                        1,040,187,392             True\n",
              "├─UnetrPrUpBlock: 1-5                              [1, 768, 4, 4, 4]         [1, 128, 8, 8, 8]         --                             --                   --                        --                        True\n",
              "│    └─Convolution: 2-9                            [1, 768, 4, 4, 4]         [1, 128, 8, 8, 8]         --                             --                   --                        --                        True\n",
              "│    │    └─ConvTranspose3d: 3-28                  [1, 768, 4, 4, 4]         [1, 128, 8, 8, 8]         786,432                     0.85%                   [2, 2, 2]                 402,653,184               True\n",
              "├─UnetrUpBlock: 1-6                                [1, 768, 4, 4, 4]         [1, 128, 8, 8, 8]         --                             --                   --                        --                        True\n",
              "│    └─Convolution: 2-10                           [1, 768, 4, 4, 4]         [1, 128, 8, 8, 8]         --                             --                   --                        --                        True\n",
              "│    │    └─ConvTranspose3d: 3-29                  [1, 768, 4, 4, 4]         [1, 128, 8, 8, 8]         786,432                     0.85%                   [2, 2, 2]                 402,653,184               True\n",
              "│    └─UnetResBlock: 2-11                          [1, 256, 8, 8, 8]         [1, 128, 8, 8, 8]         --                             --                   --                        --                        True\n",
              "│    │    └─Convolution: 3-30                      [1, 256, 8, 8, 8]         [1, 128, 8, 8, 8]         884,736                     0.95%                   --                        452,984,832               True\n",
              "│    │    └─InstanceNorm3d: 3-31                   [1, 128, 8, 8, 8]         [1, 128, 8, 8, 8]         --                             --                   --                        --                        --\n",
              "│    │    └─LeakyReLU: 3-32                        [1, 128, 8, 8, 8]         [1, 128, 8, 8, 8]         --                             --                   --                        --                        --\n",
              "│    │    └─Convolution: 3-33                      [1, 128, 8, 8, 8]         [1, 128, 8, 8, 8]         442,368                     0.48%                   --                        226,492,416               True\n",
              "│    │    └─InstanceNorm3d: 3-34                   [1, 128, 8, 8, 8]         [1, 128, 8, 8, 8]         --                             --                   --                        --                        --\n",
              "│    │    └─Convolution: 3-35                      [1, 256, 8, 8, 8]         [1, 128, 8, 8, 8]         32,768                      0.04%                   --                        16,777,216                True\n",
              "│    │    └─InstanceNorm3d: 3-36                   [1, 128, 8, 8, 8]         [1, 128, 8, 8, 8]         --                             --                   --                        --                        --\n",
              "│    │    └─LeakyReLU: 3-37                        [1, 128, 8, 8, 8]         [1, 128, 8, 8, 8]         --                        (recursive)               --                        --                        --\n",
              "├─UnetrUpBlock: 1-7                                [1, 128, 8, 8, 8]         [1, 64, 16, 16, 16]       --                             --                   --                        --                        True\n",
              "│    └─Convolution: 2-12                           [1, 128, 8, 8, 8]         [1, 64, 16, 16, 16]       --                             --                   --                        --                        True\n",
              "│    │    └─ConvTranspose3d: 3-38                  [1, 128, 8, 8, 8]         [1, 64, 16, 16, 16]       65,536                      0.07%                   [2, 2, 2]                 268,435,456               True\n",
              "│    └─UnetResBlock: 2-13                          [1, 128, 16, 16, 16]      [1, 64, 16, 16, 16]       --                             --                   --                        --                        True\n",
              "│    │    └─Convolution: 3-39                      [1, 128, 16, 16, 16]      [1, 64, 16, 16, 16]       221,184                     0.24%                   --                        905,969,664               True\n",
              "│    │    └─InstanceNorm3d: 3-40                   [1, 64, 16, 16, 16]       [1, 64, 16, 16, 16]       --                             --                   --                        --                        --\n",
              "│    │    └─LeakyReLU: 3-41                        [1, 64, 16, 16, 16]       [1, 64, 16, 16, 16]       --                             --                   --                        --                        --\n",
              "│    │    └─Convolution: 3-42                      [1, 64, 16, 16, 16]       [1, 64, 16, 16, 16]       110,592                     0.12%                   --                        452,984,832               True\n",
              "│    │    └─InstanceNorm3d: 3-43                   [1, 64, 16, 16, 16]       [1, 64, 16, 16, 16]       --                             --                   --                        --                        --\n",
              "│    │    └─Convolution: 3-44                      [1, 128, 16, 16, 16]      [1, 64, 16, 16, 16]       8,192                       0.01%                   --                        33,554,432                True\n",
              "│    │    └─InstanceNorm3d: 3-45                   [1, 64, 16, 16, 16]       [1, 64, 16, 16, 16]       --                             --                   --                        --                        --\n",
              "│    │    └─LeakyReLU: 3-46                        [1, 64, 16, 16, 16]       [1, 64, 16, 16, 16]       --                        (recursive)               --                        --                        --\n",
              "├─UnetrUpBlock: 1-8                                [1, 64, 16, 16, 16]       [1, 32, 32, 32, 32]       --                             --                   --                        --                        True\n",
              "│    └─Convolution: 2-14                           [1, 64, 16, 16, 16]       [1, 32, 32, 32, 32]       --                             --                   --                        --                        True\n",
              "│    │    └─ConvTranspose3d: 3-47                  [1, 64, 16, 16, 16]       [1, 32, 32, 32, 32]       16,384                      0.02%                   [2, 2, 2]                 536,870,912               True\n",
              "│    └─UnetResBlock: 2-15                          [1, 64, 32, 32, 32]       [1, 32, 32, 32, 32]       --                             --                   --                        --                        True\n",
              "│    │    └─Convolution: 3-48                      [1, 64, 32, 32, 32]       [1, 32, 32, 32, 32]       55,296                      0.06%                   --                        1,811,939,328             True\n",
              "│    │    └─InstanceNorm3d: 3-49                   [1, 32, 32, 32, 32]       [1, 32, 32, 32, 32]       --                             --                   --                        --                        --\n",
              "│    │    └─LeakyReLU: 3-50                        [1, 32, 32, 32, 32]       [1, 32, 32, 32, 32]       --                             --                   --                        --                        --\n",
              "│    │    └─Convolution: 3-51                      [1, 32, 32, 32, 32]       [1, 32, 32, 32, 32]       27,648                      0.03%                   --                        905,969,664               True\n",
              "│    │    └─InstanceNorm3d: 3-52                   [1, 32, 32, 32, 32]       [1, 32, 32, 32, 32]       --                             --                   --                        --                        --\n",
              "│    │    └─Convolution: 3-53                      [1, 64, 32, 32, 32]       [1, 32, 32, 32, 32]       2,048                       0.00%                   --                        67,108,864                True\n",
              "│    │    └─InstanceNorm3d: 3-54                   [1, 32, 32, 32, 32]       [1, 32, 32, 32, 32]       --                             --                   --                        --                        --\n",
              "│    │    └─LeakyReLU: 3-55                        [1, 32, 32, 32, 32]       [1, 32, 32, 32, 32]       --                        (recursive)               --                        --                        --\n",
              "├─UnetrUpBlock: 1-9                                [1, 32, 32, 32, 32]       [1, 16, 64, 64, 64]       --                             --                   --                        --                        True\n",
              "│    └─Convolution: 2-16                           [1, 32, 32, 32, 32]       [1, 16, 64, 64, 64]       --                             --                   --                        --                        True\n",
              "│    │    └─ConvTranspose3d: 3-56                  [1, 32, 32, 32, 32]       [1, 16, 64, 64, 64]       4,096                       0.00%                   [2, 2, 2]                 1,073,741,824             True\n",
              "│    └─UnetResBlock: 2-17                          [1, 32, 64, 64, 64]       [1, 16, 64, 64, 64]       --                             --                   --                        --                        True\n",
              "│    │    └─Convolution: 3-57                      [1, 32, 64, 64, 64]       [1, 16, 64, 64, 64]       13,824                      0.01%                   --                        3,623,878,656             True\n",
              "│    │    └─InstanceNorm3d: 3-58                   [1, 16, 64, 64, 64]       [1, 16, 64, 64, 64]       --                             --                   --                        --                        --\n",
              "│    │    └─LeakyReLU: 3-59                        [1, 16, 64, 64, 64]       [1, 16, 64, 64, 64]       --                             --                   --                        --                        --\n",
              "│    │    └─Convolution: 3-60                      [1, 16, 64, 64, 64]       [1, 16, 64, 64, 64]       6,912                       0.01%                   --                        1,811,939,328             True\n",
              "│    │    └─InstanceNorm3d: 3-61                   [1, 16, 64, 64, 64]       [1, 16, 64, 64, 64]       --                             --                   --                        --                        --\n",
              "│    │    └─Convolution: 3-62                      [1, 32, 64, 64, 64]       [1, 16, 64, 64, 64]       512                         0.00%                   --                        134,217,728               True\n",
              "│    │    └─InstanceNorm3d: 3-63                   [1, 16, 64, 64, 64]       [1, 16, 64, 64, 64]       --                             --                   --                        --                        --\n",
              "│    │    └─LeakyReLU: 3-64                        [1, 16, 64, 64, 64]       [1, 16, 64, 64, 64]       --                        (recursive)               --                        --                        --\n",
              "├─UnetOutBlock: 1-10                               [1, 16, 64, 64, 64]       [1, 2, 64, 64, 64]        --                             --                   --                        --                        True\n",
              "│    └─Convolution: 2-18                           [1, 16, 64, 64, 64]       [1, 2, 64, 64, 64]        --                             --                   --                        --                        True\n",
              "│    │    └─Conv3d: 3-65                           [1, 16, 64, 64, 64]       [1, 2, 64, 64, 64]        34                          0.00%                   [1, 1, 1]                 8,912,896                 True\n",
              "=================================================================================================================================================================================================================================\n",
              "Total params: 92,667,106\n",
              "Trainable params: 92,667,106\n",
              "Non-trainable params: 0\n",
              "Total mult-adds (G): 18.84\n",
              "=================================================================================================================================================================================================================================\n",
              "Input size (MB): 1.05\n",
              "Forward/backward pass size (MB): 371.33\n",
              "Params size (MB): 370.47\n",
              "Estimated Total Size (MB): 742.85\n",
              "================================================================================================================================================================================================================================="
            ]
          },
          "execution_count": 4,
          "metadata": {},
          "output_type": "execute_result"
        }
      ],
      "source": [
        "os.environ[\"CUDA_DEVICE_ORDER\"] = \"PCI_BUS_ID\"\n",
        "device = torch.device(\"cuda\" if torch.cuda.is_available() else \"cpu\")\n",
        "\n",
        "model = UNETR(\n",
        "    in_channels=1,\n",
        "    out_channels=2,\n",
        "    img_size=(64, 64, 64),\n",
        "    feature_size=16,\n",
        "    hidden_size=768,\n",
        "    mlp_dim=3072,\n",
        "    num_heads=12,\n",
        "    pos_embed=\"perceptron\",\n",
        "    norm_name=\"instance\",\n",
        "    res_block=True,\n",
        "    dropout_rate=0.0,\n",
        ").to(\"cpu\")\n",
        "\n",
        "summary(model, (1,1,64, 64, 64),\n",
        "        col_names=[\"input_size\",\n",
        "                \"output_size\",\n",
        "                \"num_params\",\n",
        "                \"params_percent\",\n",
        "                \"kernel_size\",\n",
        "                \"mult_adds\",\n",
        "                \"trainable\"])"
      ]
    },
    {
      "cell_type": "code",
      "execution_count": 5,
      "metadata": {
        "colab": {
          "base_uri": "https://localhost:8080/"
        },
        "id": "bYk3NGoJYUe9",
        "outputId": "1eceb4d1-1029-45c3-89a3-71a8672e5eff"
      },
      "outputs": [
        {
          "name": "stdout",
          "output_type": "stream",
          "text": [
            "推定容量 1600.652823486328 MiB\n"
          ]
        }
      ],
      "source": [
        "m = 92667106*4\n",
        "x = 64*64*64*4\n",
        "y = 371.33/2*1024**2 # Forwad/backward pass size = total output * 2\n",
        "batch = 1\n",
        "b=1\n",
        "g=m\n",
        "d=1\n",
        "o=2 # Adam\n",
        "print(\"推定容量\", (m + (x+y)*batch*b + g*d + m*o)/1024**2, \"MiB\")"
      ]
    }
  ],
  "metadata": {
    "accelerator": "GPU",
    "colab": {
      "gpuType": "T4",
      "provenance": []
    },
    "kernelspec": {
      "display_name": "Python 3",
      "name": "python3"
    },
    "language_info": {
      "codemirror_mode": {
        "name": "ipython",
        "version": 3
      },
      "file_extension": ".py",
      "mimetype": "text/x-python",
      "name": "python",
      "nbconvert_exporter": "python",
      "pygments_lexer": "ipython3",
      "version": "3.10.12"
    }
  },
  "nbformat": 4,
  "nbformat_minor": 0
}
